{
  "nbformat": 4,
  "nbformat_minor": 0,
  "metadata": {
    "colab": {
      "name": "PythonPracticeQuestions.ipynb",
      "provenance": [],
      "collapsed_sections": [],
      "authorship_tag": "ABX9TyPWpXwZESB6nFwMgdSbh1tf",
      "include_colab_link": true
    },
    "kernelspec": {
      "name": "python3",
      "display_name": "Python 3"
    },
    "language_info": {
      "name": "python"
    }
  },
  "cells": [
    {
      "cell_type": "markdown",
      "metadata": {
        "id": "view-in-github",
        "colab_type": "text"
      },
      "source": [
        "<a href=\"https://colab.research.google.com/github/jcprogrammer480/learning-ml/blob/main/Practice/PythonPracticeQuestions.ipynb\" target=\"_parent\"><img src=\"https://colab.research.google.com/assets/colab-badge.svg\" alt=\"Open In Colab\"/></a>"
      ]
    },
    {
      "cell_type": "markdown",
      "metadata": {
        "id": "xAV4SWiiVZ3G"
      },
      "source": [
        "**This file will contain all the question's solution which are given in optional python practice assignment by AAIC.**"
      ]
    },
    {
      "cell_type": "markdown",
      "metadata": {
        "id": "jfQbHCPLVPXp"
      },
      "source": [
        "1.Write a function that inputs a number and prints the multiplication table of that number"
      ]
    },
    {
      "cell_type": "code",
      "metadata": {
        "id": "i3JSO-5cUPC5",
        "colab": {
          "base_uri": "https://localhost:8080/"
        },
        "outputId": "0dfe9adf-7f85-4c2e-c942-d1b0b3b50426"
      },
      "source": [
        "def printTable(number):\n",
        "  \"\"\"\n",
        "  This function accepts positive integer number as parameter and prints it's multiplication table\n",
        "  \"\"\"\n",
        "  if number <= 0:\n",
        "    raise ValueError(\"The number should be positive integer.\")\n",
        "\n",
        "  for multiplier in range(1,11):\n",
        "    print(\"|{0} x {1} = {2}|\".format(number,multiplier,number*multiplier))\n",
        "\n",
        "number = int(input(\"Please enter number : \"))\n",
        "printTable(number)\n",
        "print(printTable.__doc__)\n"
      ],
      "execution_count": 6,
      "outputs": [
        {
          "output_type": "stream",
          "text": [
            "Please enter number : 11\n",
            "|11 x 1 = 11|\n",
            "|11 x 2 = 22|\n",
            "|11 x 3 = 33|\n",
            "|11 x 4 = 44|\n",
            "|11 x 5 = 55|\n",
            "|11 x 6 = 66|\n",
            "|11 x 7 = 77|\n",
            "|11 x 8 = 88|\n",
            "|11 x 9 = 99|\n",
            "|11 x 10 = 110|\n",
            "\n",
            "  This function accepts positive integer number as parameter and prints it's multiplication table\n",
            "  \n"
          ],
          "name": "stdout"
        }
      ]
    },
    {
      "cell_type": "code",
      "metadata": {
        "id": "WuFvYOXkVER0"
      },
      "source": [
        ""
      ],
      "execution_count": null,
      "outputs": []
    }
  ]
}